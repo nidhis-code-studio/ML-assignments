{
 "cells": [
  {
   "cell_type": "markdown",
   "metadata": {},
   "source": [
    "# Assignment 3"
   ]
  },
  {
   "cell_type": "markdown",
   "metadata": {},
   "source": [
    "Write a Python Program to implement your own myreduce() function which works exactly\n",
    "like Python's built-in function reduce()"
   ]
  },
  {
   "cell_type": "code",
   "execution_count": 22,
   "metadata": {},
   "outputs": [
    {
     "name": "stdout",
     "output_type": "stream",
     "text": [
      "\n",
      "    Function to work similar to built in python func reduce(functools library).\n",
      "    \n",
      "    Parameters:\n",
      "    func : A function which will be executed\n",
      "    lst : expected to be an iterator which is passed to func\n",
      "    \n",
      "    Returns:\n",
      "    None in case of type error or or reduced value in case of success\n",
      "    \n",
      "myreduce get sum of elements of lists  15\n",
      "The input 5 is not iteratable\n",
      "myreduce validated iterator input  None\n",
      "myreduce perform op on string  NidhiSharma\n"
     ]
    }
   ],
   "source": [
    "def myreduce(func, lst):\n",
    "    '''\n",
    "    Function to work similar to built in python func reduce(functools library).\n",
    "    \n",
    "    Parameters:\n",
    "    func : A function which will be executed\n",
    "    lst : expected to be an iterator which is passed to func\n",
    "    \n",
    "    Returns:\n",
    "    None in case of type error or or reduced value in case of success\n",
    "    '''\n",
    "    try:\n",
    "        it = iter(lst)\n",
    "    except TypeError:\n",
    "        print(\"The input {} is not iteratable\".format(lst))\n",
    "        return None\n",
    "    result = next(it)\n",
    "    for val in it:\n",
    "        result = func(result, val)\n",
    "    return result\n",
    "\n",
    "#List with only integers\n",
    "l = [1,2,3,4,5]\n",
    "\n",
    "#list with only strings\n",
    "s = [\"Nidhi\", \"Sharma\"]\n",
    "\n",
    "#Check documentation generation for custom functions\n",
    "print(myreduce.__doc__)\n",
    "\n",
    "#Try calling custom reduce function with multiple kinds of inputs\n",
    "print(\"myreduce get sum of elements of lists \", myreduce(lambda x,y:x+y, l))\n",
    "print(\"myreduce validated iterator input \",myreduce(lambda x,y:x+y, 5))\n",
    "print(\"myreduce perform op on string \",myreduce(lambda x,y:x+y, s))"
   ]
  },
  {
   "cell_type": "markdown",
   "metadata": {},
   "source": [
    "Write a Python program to implement your own myfilter() function which works exactly\n",
    "like Python's built-in function filter()"
   ]
  },
  {
   "cell_type": "code",
   "execution_count": 24,
   "metadata": {},
   "outputs": [
    {
     "name": "stdout",
     "output_type": "stream",
     "text": [
      "\n",
      "    Function to work similar to built in python func filter.\n",
      "    \n",
      "    Parameters:\n",
      "    func : A function which will be executed to filter\n",
      "    lst : expected to be an iterator which is passed to func\n",
      "    \n",
      "    Returns:\n",
      "    None in case of type error or list of filtered elements from\n",
      "    iteratable in case of success\n",
      "    \n",
      "myfilter get odd numbers  [1, 3, 5]\n",
      "The input 5 is not iteratable\n",
      "myfilter validate iteratable input  None\n",
      "myfilter extract string from hetro list  ['Nidhi', 'Sharma']\n"
     ]
    }
   ],
   "source": [
    "def myfilter(func, lst):\n",
    "    '''\n",
    "    Function to work similar to built in python func filter.\n",
    "    \n",
    "    Parameters:\n",
    "    func : A function which will be executed to filter\n",
    "    lst : expected to be an iterator which is passed to func\n",
    "    \n",
    "    Returns:\n",
    "    None in case of type error or list of filtered elements from\n",
    "    iteratable in case of success\n",
    "    '''\n",
    "    try:\n",
    "        it = iter(lst)\n",
    "    except TypeError:\n",
    "        print(\"The input {} is not iteratable\".format(lst))\n",
    "        return None\n",
    "    result = []\n",
    "    for val in it:\n",
    "        if func(val):\n",
    "            result.append(val)\n",
    "        else:\n",
    "            continue\n",
    "    return result\n",
    "\n",
    "#List with only integers\n",
    "l = [1,2,3,4,5]\n",
    "\n",
    "#list with only strings\n",
    "s = [\"Nidhi\", \"Sharma\", 0, [1,2,3]]\n",
    "\n",
    "#Check documentation generation for custom functions\n",
    "print(myfilter.__doc__)\n",
    "\n",
    "#Try calling custom reduce function with multiple kinds of inputs\n",
    "print(\"myfilter get odd numbers \",myfilter(lambda x: x%2, l))               # extrace odd numbers\n",
    "print(\"myfilter validate iteratable input \",myfilter(lambda x: x%2 == 0, 5))# check if iteratable is not given in input\n",
    "print(\"myfilter extract string from hetro list \",myfilter(lambda x: type(x) == str, s)) # extract string from hetrogeneous input\n"
   ]
  },
  {
   "cell_type": "markdown",
   "metadata": {},
   "source": [
    "Implement List comprehensions to produce the following lists.\n",
    "\n",
    "    \n",
    "    ['x', 'xx', 'xxx', 'xxxx', 'y', 'yy', 'yyy', 'yyyy', 'z', 'zz', 'zzz', 'zzzz']\n",
    "    ['x', 'y', 'z', 'xx', 'yy', 'zz', 'xxx', 'yyy', 'zzz', 'xxxx', 'yyyy', 'zzzz']\n",
    "    [[2], [3], [4], [3], [4], [5], [4], [5], [6]]\n",
    "    [[2, 3, 4, 5], [3, 4, 5, 6],[4, 5, 6, 7], [5, 6, 7, 8]]\n",
    "    [(1, 1), (2, 1), (3, 1), (1, 2), (2, 2), (3, 2), (1, 3), (2, 3), (3, 3)]\n",
    "    "
   ]
  },
  {
   "cell_type": "code",
   "execution_count": 71,
   "metadata": {},
   "outputs": [
    {
     "name": "stdout",
     "output_type": "stream",
     "text": [
      "['x', 'xx', 'xxx', 'xxxx', 'y', 'yy', 'yyy', 'yyyy', 'z', 'zz', 'zzz', 'zzzz']\n",
      "['x', 'y', 'z', 'xx', 'yy', 'zz', 'xxx', 'yyy', 'zzz', 'xxxx', 'yyyy', 'zzzz']\n",
      "[[2], [3], [4], [3], [4], [5], [4], [5], [6]]\n",
      "[[2, 3, 4, 5], [3, 4, 5, 6], [4, 5, 6, 7], [5, 6, 7, 8]]\n",
      "[(1, 1), (2, 1), (3, 1), (1, 2), (2, 2), (3, 2), (1, 3), (2, 3), (3, 3)]\n"
     ]
    }
   ],
   "source": [
    "ip_str = 'xyz'\n",
    "lst = [j*i for j in ip_str for i in range(1,5)]\n",
    "print(lst)\n",
    "\n",
    "next_lst = [j*i for i in range(1,5) for j in ip_str]\n",
    "print(next_lst)\n",
    "\n",
    "matrix = [[2,3,4], [3,4,5], [4,5,6]]\n",
    "l_matrix = [[val] for sublist in matrix  for val in sublist]\n",
    "print(l_matrix)\n",
    "\n",
    "f_list = [[i,i+1,i+2,i+3] for i in range(2,6)]\n",
    "print(f_list)\n",
    "\n",
    "tup_list = [(j,i) for i in range(1,4) for j in range(1,4)]\n",
    "print(tup_list)"
   ]
  }
 ],
 "metadata": {
  "kernelspec": {
   "display_name": "Python 3",
   "language": "python",
   "name": "python3"
  },
  "language_info": {
   "codemirror_mode": {
    "name": "ipython",
    "version": 3
   },
   "file_extension": ".py",
   "mimetype": "text/x-python",
   "name": "python",
   "nbconvert_exporter": "python",
   "pygments_lexer": "ipython3",
   "version": "3.7.6"
  }
 },
 "nbformat": 4,
 "nbformat_minor": 4
}
