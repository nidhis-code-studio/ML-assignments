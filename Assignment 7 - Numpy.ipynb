{
 "cells": [
  {
   "cell_type": "markdown",
   "metadata": {},
   "source": [
    "# Problem Statement 1\n",
    "\n",
    "Write a function so that the columns of the output matrix are powers of the input vector.\n",
    "\n",
    "The order of the powers is determined by the increasing boolean argument. Specifically, when\n",
    "increasing is False, the i-th output column is the input vector raised element-wise to the power\n",
    "of N - i - 1.\n",
    "\n",
    "HINT: Such a matrix with a geometric progression in each row is named for Alexandre-\n",
    "Theophile Vandermonde."
   ]
  },
  {
   "cell_type": "code",
   "execution_count": 3,
   "metadata": {},
   "outputs": [],
   "source": [
    "import numpy as np"
   ]
  },
  {
   "cell_type": "code",
   "execution_count": 28,
   "metadata": {},
   "outputs": [
    {
     "data": {
      "text/plain": [
       "array([[  1,   1,   1,   1,   1],\n",
       "       [ 16,   8,   4,   2,   1],\n",
       "       [ 81,  27,   9,   3,   1],\n",
       "       [256,  64,  16,   4,   1],\n",
       "       [625, 125,  25,   5,   1]])"
      ]
     },
     "execution_count": 28,
     "metadata": {},
     "output_type": "execute_result"
    }
   ],
   "source": [
    "\n",
    "def custom_vander(arr, N=None, increasing=False):\n",
    "    '''\n",
    "    Function to get the vander matrix of 1 D array\n",
    "    \n",
    "    Parameters\n",
    "    --------------\n",
    "    arr: array-like \n",
    "        input vector(1-D array)\n",
    "    N: int (optional)\n",
    "       Number of columns in the output. If N is not specified then N is len of arr.\n",
    "    increasing: bool(Optional)\n",
    "    Order of the powers of the columns.  If True, the powers increase\n",
    "        from left to right, if False (the default) they are reversed.\n",
    "    \n",
    "    Output\n",
    "    -------------\n",
    "    result : ndarray\n",
    "    Vandermode matrix\n",
    "    '''\n",
    "    x = np.asarray(arr)\n",
    "    if x.ndim != 1 :\n",
    "        raise ValueError (\"Expected input is 1-D array\")\n",
    "    if N is None:\n",
    "        N = len(x)\n",
    "    result = np.empty((len(x),N), dtype=np.promote_types(x.dtype, int))\n",
    "\n",
    "    tmp = result[:, ::-1] if not increasing else result\n",
    "\n",
    "    if N > 0:\n",
    "        tmp[:, 0] = 1\n",
    "    if N > 1:\n",
    "        tmp[:, 1:] = x[:, None]\n",
    "        np.multiply.accumulate(tmp[:, 1:], out=tmp[:, 1:], axis=1)\n",
    "\n",
    "    return result\n",
    "\n",
    "test = [1,2,3,4,5]\n",
    "custom_vander(test)\n"
   ]
  },
  {
   "cell_type": "markdown",
   "metadata": {},
   "source": [
    "\n",
    "# Problem Statement 2:\n",
    "\n",
    "Given a sequence of n values x1, x2, ..., xn and a window size k>0, the k-th moving average of\n",
    "the given sequence is defined as follows:\n",
    "The moving average sequence has n-k+1 elements as shown below.\n",
    "The moving averages with k=4 of a ten-value sequence (n=10) is shown below\n",
    "\n",
    "\n",
    "    i 1 2 3 4 5 6 7 8 9 10\n",
    "    ===== == == == == == == == == == ==\n",
    "    Input 10 20 30 40 50 60 70 80 90 100\n",
    "    y1 25 = (10+20+30+40)/4\n",
    "    y2 35 = (20+30+40+50)/4\n",
    "    y3 45 = (30+40+50+60)/4\n",
    "    y4 55 = (40+50+60+70)/4\n",
    "    y5 65 = (50+60+70+80)/4\n",
    "    y6 75 = (60+70+80+90)/4\n",
    "    y7 85 = (70+80+90+100)/4\n",
    "\n",
    "\n",
    "Thus, the moving average sequence has n-k+1=10-4+1=7 values.\n",
    "\n",
    "Write a function to find moving average in an array over a window:\n",
    "Test it over [3, 5, 7, 2, 8, 10, 11, 65, 72, 81, 99, 100, 150] and window of 3."
   ]
  },
  {
   "cell_type": "code",
   "execution_count": 50,
   "metadata": {},
   "outputs": [],
   "source": [
    "def moving_avg(arr, n=3):\n",
    "    '''\n",
    "    Get the moving average of a 1-D array.\n",
    "    \n",
    "    Parameters\n",
    "    ----------\n",
    "    arr : array like\n",
    "    input vector or 1-D array\n",
    "    \n",
    "    k: int\n",
    "    window to find the moving average. Default value is 3\n",
    "    \n",
    "    Return\n",
    "    ------\n",
    "    Array with moving averages.\n",
    "    '''\n",
    "    \n",
    "    try:\n",
    "        type(n) == 'int' and n < len(arr)\n",
    "    except ValueError:\n",
    "        print(\"Window size is either not int or out of range\")\n",
    "        return None\n",
    "    \n",
    "    arr = np.asarray(arr)\n",
    "    if arr.ndim != 1:\n",
    "        print(\"Input should be 1-D array\")\n",
    "        return None \n",
    "    i = 0\n",
    "    result = []\n",
    "    while i < (len(arr) -n + 1):\n",
    "        window = arr[i:i+n]\n",
    "        avg = sum(window)/n\n",
    "        result.append(avg)\n",
    "        i = i +1\n",
    "    return result"
   ]
  },
  {
   "cell_type": "code",
   "execution_count": 54,
   "metadata": {},
   "outputs": [
    {
     "name": "stdout",
     "output_type": "stream",
     "text": [
      "==== Input Value is ====\n",
      "[3, 5, 7, 2, 8, 10, 11, 65, 72, 81, 99, 100, 150]\n",
      "==== Output value is ====\n"
     ]
    },
    {
     "data": {
      "text/plain": [
       "[5.0,\n",
       " 4.666666666666667,\n",
       " 5.666666666666667,\n",
       " 6.666666666666667,\n",
       " 9.666666666666666,\n",
       " 28.666666666666668,\n",
       " 49.333333333333336,\n",
       " 72.66666666666667,\n",
       " 84.0,\n",
       " 93.33333333333333,\n",
       " 116.33333333333333]"
      ]
     },
     "execution_count": 54,
     "metadata": {},
     "output_type": "execute_result"
    }
   ],
   "source": [
    "check = [3, 5, 7, 2, 8, 10, 11, 65, 72, 81, 99, 100, 150]\n",
    "print(\"==== Input Value is ====\")\n",
    "print(check)\n",
    "print(\"==== Output value is ====\")\n",
    "moving_avg(check, n=3)"
   ]
  }
 ],
 "metadata": {
  "kernelspec": {
   "display_name": "Python 3",
   "language": "python",
   "name": "python3"
  },
  "language_info": {
   "codemirror_mode": {
    "name": "ipython",
    "version": 3
   },
   "file_extension": ".py",
   "mimetype": "text/x-python",
   "name": "python",
   "nbconvert_exporter": "python",
   "pygments_lexer": "ipython3",
   "version": "3.7.6"
  }
 },
 "nbformat": 4,
 "nbformat_minor": 4
}
