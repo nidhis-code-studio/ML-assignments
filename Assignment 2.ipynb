{
 "cells": [
  {
   "cell_type": "markdown",
   "metadata": {},
   "source": [
    "# Assignment 2\n"
   ]
  },
  {
   "cell_type": "markdown",
   "metadata": {},
   "source": [
    "Create the below pattern using nested for loop in Python.\n",
    "\n",
    "    *\n",
    "    * *\n",
    "    * * *\n",
    "    * * * *\n",
    "    * * * * *\n",
    "    * * * *\n",
    "    * * *\n",
    "    * *\n",
    "    *"
   ]
  },
  {
   "cell_type": "code",
   "execution_count": 21,
   "metadata": {},
   "outputs": [
    {
     "name": "stdout",
     "output_type": "stream",
     "text": [
      "* \t\n",
      "* * \t\n",
      "* * * \t\n",
      "* * * * \t\n",
      "* * * * * \t\n",
      "* * * * \t\n",
      "* * * \t\n",
      "* * \t\n",
      "* \t\n"
     ]
    }
   ],
   "source": [
    "s = 1\n",
    "e = 5\n",
    "st = []\n",
    "for i in range(1,e+1):\n",
    "    for j in range(1,i+1):\n",
    "        print('*', end = \" \")\n",
    "    print(\"\\t\")\n",
    "for i in range(e-1,0,-1):\n",
    "    for j in range(i):\n",
    "        print('*', end=\" \")\n",
    "    print(\"\\t\")\n",
    "\n"
   ]
  },
  {
   "cell_type": "markdown",
   "metadata": {},
   "source": [
    "Write a Python program to reverse a word after accepting the input from the user.\n",
    "Sample Output:\n",
    "\n",
    "Input word: Ineuron\n",
    "Output: noruenI"
   ]
  },
  {
   "cell_type": "code",
   "execution_count": 22,
   "metadata": {},
   "outputs": [
    {
     "name": "stdout",
     "output_type": "stream",
     "text": [
      "Ineuron\n",
      "noruenI\n"
     ]
    }
   ],
   "source": [
    "st = input()\n",
    "st\n",
    "print(st[::-1])"
   ]
  }
 ],
 "metadata": {
  "kernelspec": {
   "display_name": "Python 3",
   "language": "python",
   "name": "python3"
  },
  "language_info": {
   "codemirror_mode": {
    "name": "ipython",
    "version": 3
   },
   "file_extension": ".py",
   "mimetype": "text/x-python",
   "name": "python",
   "nbconvert_exporter": "python",
   "pygments_lexer": "ipython3",
   "version": "3.7.6"
  }
 },
 "nbformat": 4,
 "nbformat_minor": 4
}
