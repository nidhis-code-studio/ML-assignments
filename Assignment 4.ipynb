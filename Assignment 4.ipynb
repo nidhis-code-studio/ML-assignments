{
 "cells": [
  {
   "cell_type": "markdown",
   "metadata": {},
   "source": [
    "# Assignment 4"
   ]
  },
  {
   "cell_type": "markdown",
   "metadata": {},
   "source": [
    "Write a Python Program(with class concepts) to find the area of the triangle using the below\n",
    "formula.\n",
    "\n",
    "    area = (s*(s-a)*(s-b)*(s-c)) ** 0.5\n",
    "\n",
    "Function to take the length of the sides of triangle from user should be defined in the parent\n",
    "class and function to calculate the area should be defined in subclass."
   ]
  },
  {
   "cell_type": "code",
   "execution_count": 43,
   "metadata": {},
   "outputs": [
    {
     "name": "stdout",
     "output_type": "stream",
     "text": [
      "S is 9.00\n",
      "Area is 14.70\n",
      "14.696938456699069\n"
     ]
    }
   ],
   "source": [
    "class Triangle:\n",
    "    def __init__(self, a, b, c):\n",
    "        if not all([type(val) == int or type(val) == float for val in [a,b,c]]):\n",
    "            print(\"Invalid input.\")\n",
    "            return None\n",
    "        self.a = a\n",
    "        self.b = b\n",
    "        self.c = c\n",
    "\n",
    "class Area(Triangle):\n",
    "    def __init__(self, *args):\n",
    "        super(Area, self).__init__(*args)\n",
    "        \n",
    "    def getArea(self):\n",
    "        s = (self.a+self.b+self.c)/2\n",
    "        print(\"S is %0.2f\" %s)\n",
    "        area = (s * (s - self.a) * (s - self.b) * (s -self.c)) ** 0.5\n",
    "        print(\"Area is %0.2f\" %area)\n",
    "        return area\n",
    "\n",
    "test = Area(5,6,7)\n",
    "print(test.getArea())"
   ]
  },
  {
   "cell_type": "markdown",
   "metadata": {},
   "source": [
    "Write a function filter_long_words() that takes a list of words and an integer n and returns\n",
    "the list of words that are longer than n."
   ]
  },
  {
   "cell_type": "code",
   "execution_count": 42,
   "metadata": {},
   "outputs": [
    {
     "name": "stdout",
     "output_type": "stream",
     "text": [
      "['Sharma', 'LinkedIN']\n"
     ]
    }
   ],
   "source": [
    "def filter_long_words(l_words, n):\n",
    "    '''\n",
    "    This function takes a list of words and returns the list of words with length longer than n.\n",
    "    \n",
    "    Parameters:\n",
    "    l_words: List of words\n",
    "    n: minimum length to filter words\n",
    "    \n",
    "    Return:\n",
    "    fil: List of words that are longer than n (in case of success)\n",
    "    None in case of error\n",
    "    '''\n",
    "    if not all(type(ip) == str for ip in l_words):\n",
    "        print(\"Invalid input. All the input in list are not strings\")\n",
    "        return None\n",
    "    result = [lst for lst in l_words if len(lst) > n]\n",
    "    return result\n",
    "\n",
    "lst = [\"God\", \"Nidhi\", \"Sharma\", \"Viksa\", \"LinkedIN\",]\n",
    "n = 5\n",
    "print(filter_long_words(lst,n))\n",
    "    "
   ]
  },
  {
   "cell_type": "markdown",
   "metadata": {},
   "source": [
    "Write a Python program using function concept that maps list of words into a list of integers\n",
    "representing the lengths of the corresponding words.\n",
    "\n",
    "Hint: If a list [ ab,cde,erty] is passed on to the python functionoutput should come as [2,3,4]\n",
    "Here 2,3 and 4 are the lengths of the words in the list."
   ]
  },
  {
   "cell_type": "code",
   "execution_count": 41,
   "metadata": {},
   "outputs": [
    {
     "name": "stdout",
     "output_type": "stream",
     "text": [
      "[3, 5, 6, 5, 8]\n"
     ]
    }
   ],
   "source": [
    "def map_len_to_words(l_words):\n",
    "    '''\n",
    "    This function maps the list of words to list of integers representing the\n",
    "    corresponding words\n",
    "    \n",
    "    Parameters:\n",
    "    l_words : list containing the words whose length needs to be mapped.\n",
    "    \n",
    "    Returns:\n",
    "    list : list containing length of corresponding words.(in case of success)\n",
    "    None in case of invalid input\n",
    "    '''\n",
    "    if not all(type(ip) == str for ip in l_words):\n",
    "        print(\"Invalid input. All the input in list are not strings\")\n",
    "        return None\n",
    "    \n",
    "    return [len(lst) for lst in l_words]\n",
    "\n",
    "print(map_len_to_words(lst))"
   ]
  },
  {
   "cell_type": "markdown",
   "metadata": {},
   "source": [
    "Write a Python function which takes a character (i.e. a string of length 1) and returns True if\n",
    "it is a vowel, False otherwise."
   ]
  },
  {
   "cell_type": "code",
   "execution_count": 40,
   "metadata": {},
   "outputs": [
    {
     "name": "stdout",
     "output_type": "stream",
     "text": [
      "False\n",
      "True\n",
      "False\n",
      "False\n"
     ]
    }
   ],
   "source": [
    "def is_vowel(ch):\n",
    "    '''\n",
    "    This function takes a char and test if it is a single character vowel or not\n",
    "    \n",
    "    Parameters:\n",
    "    ch : character to be tested\n",
    "    \n",
    "    Returns:\n",
    "    True if its single charcter vowel or False otherwise\n",
    "    '''\n",
    "    vowel = ['a','e','i','o','u']\n",
    "    if type(ch) == str and len(ch) == 1 and ch in vowel:\n",
    "        return True\n",
    "    else:\n",
    "        return False\n",
    "\n",
    "print(is_vowel('apple'))\n",
    "print(is_vowel('a'))\n",
    "print(is_vowel('h'))\n",
    "print(is_vowel(1))"
   ]
  }
 ],
 "metadata": {
  "kernelspec": {
   "display_name": "Python 3",
   "language": "python",
   "name": "python3"
  },
  "language_info": {
   "codemirror_mode": {
    "name": "ipython",
    "version": 3
   },
   "file_extension": ".py",
   "mimetype": "text/x-python",
   "name": "python",
   "nbconvert_exporter": "python",
   "pygments_lexer": "ipython3",
   "version": "3.7.6"
  }
 },
 "nbformat": 4,
 "nbformat_minor": 4
}
